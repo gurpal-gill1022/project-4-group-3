{
 "cells": [
  {
   "cell_type": "markdown",
   "id": "44c4b2bc",
   "metadata": {},
   "source": [
    "# Logistic Regression Model"
   ]
  },
  {
   "cell_type": "code",
   "execution_count": null,
   "id": "f5fe4161",
   "metadata": {},
   "outputs": [],
   "source": [
    "# Import the modules\n",
    "import numpy as np\n",
    "import pandas as pd\n",
    "from pathlib import Path\n",
    "from sklearn.metrics import balanced_accuracy_score, confusion_matrix, classification_report\n",
    "from sklearn.linear_model import LinearRegression\n",
    "from sklearn.metrics import mean_squared_error, r2_score"
   ]
  },
  {
   "cell_type": "code",
   "execution_count": null,
   "id": "55839387",
   "metadata": {},
   "outputs": [],
   "source": [
    "# Loading data\n",
    "file_path = Path(\"../Resources/output/TX_full_data.csv\")\n",
    "df_texas = pd.read_csv(file_path)\n",
    "df_texas.head()"
   ]
  },
  {
   "cell_type": "code",
   "execution_count": null,
   "id": "65ecafc9",
   "metadata": {},
   "outputs": [],
   "source": [
    "#Seeing the rows above and putting them to zero\n",
    "df_texas.fillna(0, inplace=True)"
   ]
  },
  {
   "cell_type": "code",
   "execution_count": null,
   "id": "58c673d9",
   "metadata": {},
   "outputs": [],
   "source": [
    "df_texas.info()"
   ]
  },
  {
   "cell_type": "code",
   "execution_count": null,
   "id": "85cc3419",
   "metadata": {},
   "outputs": [],
   "source": [
    "#focusing on the non float values \n",
    "df_texas = df_texas[[\"zipcode\", \"population\",\"Net_Income\", \"P_2015\", \"P_2016\",\"P_2017\",\"P_2018\",\"P_2019\",\"P_2020\",\"P_2021\",\"P_2022\",\"P_2023\", \"bedroom_number\", \"bathroom_number\", \n",
    "                    \"living_space\", \"land_space\"]]\n",
    "\n",
    "df_texas.head()"
   ]
  },
  {
   "cell_type": "code",
   "execution_count": null,
   "id": "288ff7e5",
   "metadata": {},
   "outputs": [],
   "source": [
    "# Create the X set by using the `reshape` function to format the ads data as a single column array.\n",
    "X =  df_texas.drop(columns='P_2023')\n",
    "\n",
    "# Display sample data\n",
    "X[:5]"
   ]
  },
  {
   "cell_type": "code",
   "execution_count": null,
   "id": "ae71ed37",
   "metadata": {},
   "outputs": [],
   "source": [
    "y = df_texas[\"P_2023\"]\n",
    "y[:5]"
   ]
  },
  {
   "cell_type": "code",
   "execution_count": null,
   "id": "bea83537",
   "metadata": {},
   "outputs": [],
   "source": [
    "model = LinearRegression()"
   ]
  },
  {
   "cell_type": "code",
   "execution_count": null,
   "id": "ad1c1afb",
   "metadata": {},
   "outputs": [],
   "source": [
    "model.fit(X, y)"
   ]
  },
  {
   "cell_type": "code",
   "execution_count": null,
   "id": "971a7d10",
   "metadata": {},
   "outputs": [],
   "source": [
    "predicted_y_values = model.predict(X)"
   ]
  },
  {
   "cell_type": "code",
   "execution_count": null,
   "id": "44d4ddfb",
   "metadata": {},
   "outputs": [],
   "source": [
    "# Create a copy of the original data\n",
    "df_texas_predicted = df_texas.copy()\n",
    "\n",
    "# Add a column with the predicted sales values\n",
    "df_texas_predicted[\"p_2024\"] = predicted_y_values\n",
    "\n",
    "# Display sample data\n",
    "df_texas_predicted.head()"
   ]
  },
  {
   "cell_type": "code",
   "execution_count": null,
   "id": "5747ab96",
   "metadata": {},
   "outputs": [],
   "source": [
    "# Compute the metrics for the linear regression model\n",
    "score = model.score(X, y, sample_weight=None)\n",
    "r2 = r2_score(y, predicted_y_values)\n",
    "mse = mean_squared_error(y, predicted_y_values)\n",
    "rmse = np.sqrt(mse)\n",
    "std = np.std(y)\n",
    "\n",
    "# Print releveant metrics.\n",
    "print(f\"The score is {score}.\")\n",
    "print(f\"The r2 is {r2}.\")\n",
    "print(f\"The mean squared error is {mse}.\")\n",
    "print(f\"The root mean squared error is {rmse}.\")\n",
    "print(f\"The standard deviation is {std}.\")"
   ]
  },
  {
   "cell_type": "code",
   "execution_count": null,
   "id": "579c0e35",
   "metadata": {},
   "outputs": [],
   "source": []
  }
 ],
 "metadata": {
  "kernelspec": {
   "display_name": "Python 3 (ipykernel)",
   "language": "python",
   "name": "python3"
  },
  "language_info": {
   "codemirror_mode": {
    "name": "ipython",
    "version": 3
   },
   "file_extension": ".py",
   "mimetype": "text/x-python",
   "name": "python",
   "nbconvert_exporter": "python",
   "pygments_lexer": "ipython3",
   "version": "3.10.13"
  }
 },
 "nbformat": 4,
 "nbformat_minor": 5
}
